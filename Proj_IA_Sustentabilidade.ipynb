{
  "nbformat": 4,
  "nbformat_minor": 0,
  "metadata": {
    "colab": {
      "provenance": [],
      "authorship_tag": "ABX9TyNK29zQbR/P3BPwRe39av/E",
      "include_colab_link": true
    },
    "kernelspec": {
      "name": "python3",
      "display_name": "Python 3"
    },
    "language_info": {
      "name": "python"
    }
  },
  "cells": [
    {
      "cell_type": "markdown",
      "metadata": {
        "id": "view-in-github",
        "colab_type": "text"
      },
      "source": [
        "<a href=\"https://colab.research.google.com/github/ronicostaf/Proj_IA_Sustentabilidade/blob/main/Proj_IA_Sustentabilidade.ipynb\" target=\"_parent\"><img src=\"https://colab.research.google.com/assets/colab-badge.svg\" alt=\"Open In Colab\"/></a>"
      ]
    },
    {
      "cell_type": "markdown",
      "source": [
        "App Rede EcoDrone alpha 0.1\n",
        "\n",
        "    Rede: Colaboração entre alunos, escolas e fiscais dos munícipios parceiros.\n",
        "    Eco: Refere-se diretamente à questão ambiental e à preservação.\n",
        "    Drone: Usa a tecnologia de drones para mapear as áreas verdes e forncer as imagens para a IA"
      ],
      "metadata": {
        "id": "MTdkmp1ejM_F"
      }
    },
    {
      "cell_type": "markdown",
      "source": [
        "Configurações do clound do Google e parâmetros do modelo"
      ],
      "metadata": {
        "id": "OLYUFCHPl7m-"
      }
    },
    {
      "cell_type": "code",
      "execution_count": 120,
      "metadata": {
        "id": "AWD_Br-AIech"
      },
      "outputs": [],
      "source": [
        "!pip install -q -U google-generativeai"
      ]
    },
    {
      "cell_type": "code",
      "source": [
        "# Import the Python SDK\n",
        "import google.generativeai as genai\n",
        "import pandas as pd\n",
        "import numpy as np\n",
        "import cv2\n",
        "import pathlib\n",
        "import textwrap\n",
        "\n",
        "import google.generativeai as genai\n",
        "\n",
        "# INFORMANDO A CHAVE SECRETA\n",
        "from google.colab import userdata\n",
        "api_key = userdata.get('SECRET_KEY')\n",
        "genai.configure(api_key=api_key)"
      ],
      "metadata": {
        "id": "nTfnfOxDMCfN"
      },
      "execution_count": 121,
      "outputs": []
    },
    {
      "cell_type": "code",
      "source": [
        "generate_config = {\n",
        "    'candidate_count': 1,\n",
        "    'temperature': 0.5\n",
        "}\n",
        "\n",
        "# configurações de segurança\n",
        "\n",
        "safety_settings = {\n",
        "    'harassment': 'block_none',\n",
        "    'hate': 'block_none',\n",
        "    'sexual': 'block_none',\n",
        "    'dangerous': 'block_none'\n",
        "}\n",
        "\n",
        "# inicializando o modelo\n",
        "model = genai.GenerativeModel(model_name='gemini-1.0-pro',\n",
        "                              generation_config=generate_config,\n",
        "                              safety_settings=safety_settings)"
      ],
      "metadata": {
        "id": "WmYBueoBnKbt"
      },
      "execution_count": 122,
      "outputs": []
    },
    {
      "cell_type": "markdown",
      "source": [
        "Código para melhoria da visualização"
      ],
      "metadata": {
        "id": "iLmAmO_g1AGj"
      }
    },
    {
      "cell_type": "code",
      "source": [
        "\n",
        "from IPython.display import display\n",
        "from IPython.display import Markdown\n",
        "\n",
        "\n",
        "def to_markdown(text):\n",
        "  text = text.replace('•', '  *')\n",
        "  return Markdown(textwrap.indent(text, '> ', predicate=lambda _: True))\n"
      ],
      "metadata": {
        "id": "TRBqThHR1EkE"
      },
      "execution_count": 123,
      "outputs": []
    },
    {
      "cell_type": "markdown",
      "source": [
        "O trecho de código a seguir analisa a quantidade de verde em uma imagem. O usuário passa o caminho das imagens a serem analizadas e a função vai calcular a porcentagem de pixels verdes que cada imagem contêm."
      ],
      "metadata": {
        "id": "Aeh-kegVOkYN"
      }
    },
    {
      "cell_type": "code",
      "source": [
        "# analisa a imagem para calcular área verde\n",
        "def analisar_imagem(caminho_imagem):\n",
        "  imagem = cv2.imread(caminho_imagem)\n",
        "\n",
        "  # checando a existência da imagem\n",
        "  if len(imagem) == 0:\n",
        "    print('\\nFalha no carregamento da imagem!')\n",
        "  else:\n",
        "    hsv = cv2.cvtColor(imagem, cv2.COLOR_BGR2HSV)\n",
        "\n",
        "  # Defina a faixa de cor verde em HSV\n",
        "  verde_inferior = np.array([35, 50, 50])\n",
        "  verde_superior = np.array([85, 255, 255])\n",
        "\n",
        "  # Crie uma máscara para isolar a cor verde\n",
        "  mascara = cv2.inRange(hsv, verde_inferior, verde_superior)\n",
        "\n",
        "  # Calcule a porcentagem de pixels verdes\n",
        "  total_pixels = imagem.shape[0] * imagem.shape[1]\n",
        "  pixels_verdes = cv2.countNonZero(mascara)\n",
        "  return (pixels_verdes / total_pixels) * 100\n",
        "\n",
        "# Obter informações do usuário\n",
        "prompt = input('Deseja continuar [S ou N]: ')\n",
        "while prompt != 'N':\n",
        "  imagem1 = input(\"Insira o caminho para a primeira imagem: \")\n",
        "  imagem2 = input(\"Insira o caminho para a segunda imagem: \")\n",
        "  bioma = input(\"Qual o bioma das imagens? [1] Mata Atlântica | [2] Amazônia: \")\n",
        "  local = input(\"Qual o local das imagens? [Município/área verde]: \")\n",
        "  prompt = 'N'\n",
        "\n",
        "# Observações:\n",
        "# A detecção de verde ainda é uma simplificação, e fatores como iluminação e sombras podem influenciar a precisão.\n",
        "# O ajuste fino da faixa HSV para \"verde\" pode ser necessário dependendo das imagens.\n",
        "# caminhos das imagens de teste, em ordem:\n",
        "# imagem1 = '/teste1.jpg'\n",
        "# imagem2 = '/teste2.jpg'"
      ],
      "metadata": {
        "colab": {
          "base_uri": "https://localhost:8080/"
        },
        "id": "YB9TmgF3PJQb",
        "outputId": "508505a1-b4f9-4b00-8eb6-0ce2f63d2926"
      },
      "execution_count": 124,
      "outputs": [
        {
          "name": "stdout",
          "output_type": "stream",
          "text": [
            "Deseja continuar [S ou N]: s\n",
            "Insira o caminho para a primeira imagem: /teste1.jpg\n",
            "Insira o caminho para a segunda imagem: /teste2.jpg\n",
            "Qual o bioma das imagens? [1] Mata Atlântica | [2] Amazônia: 1\n",
            "Qual o local das imagens? [Município/área verde]: Petrópolis/Serra dos Órgãos\n"
          ]
        }
      ]
    },
    {
      "cell_type": "markdown",
      "source": [
        "Após a coleta das imagens, se calcula a perda vegetativa do local fotografado, por meio da criação de duas variáveis, onde será calculado posteriormente a diferença entre a situação \"antes\" e a situação \"depois\"."
      ],
      "metadata": {
        "id": "vHJbfdWhRC8E"
      }
    },
    {
      "cell_type": "code",
      "source": [
        "# Analisar as imagens e calcular a perda vegetativa\n",
        "cobertura1 = analisar_imagem(imagem1)\n",
        "cobertura2 = analisar_imagem(imagem2)\n",
        "perda = cobertura1 - cobertura2\n",
        "# corrreção caso a ordem das imagens seja invertida\n",
        "if perda < 0:\n",
        "  perda = perda * (-1)\n"
      ],
      "metadata": {
        "id": "4LlvtUEIRmyt"
      },
      "execution_count": 126,
      "outputs": []
    },
    {
      "cell_type": "markdown",
      "source": [
        "O aplicativo mostra a perda vegetativa e possíveis causas de acordo com o bioma inserido pelo usuário."
      ],
      "metadata": {
        "id": "LgIGGdzhSc8l"
      }
    },
    {
      "cell_type": "code",
      "source": [
        "# Imprimir resultados\n",
        "print(\"\\nResultados da análise:\")\n",
        "print(f\"Imagem 1: {cobertura1:.2f}% de cobertura vegetal\")\n",
        "print(f\"Imagem 2: {cobertura2:.2f}% de cobertura vegetal\")\n",
        "print(f\"Perda...: {perda:.2f}% de cobertura vegetal\")"
      ],
      "metadata": {
        "colab": {
          "base_uri": "https://localhost:8080/"
        },
        "id": "cgDA5jFlSsRX",
        "outputId": "4ead6364-99df-4046-e311-1330908af830"
      },
      "execution_count": 127,
      "outputs": [
        {
          "output_type": "stream",
          "name": "stdout",
          "text": [
            "\n",
            "Resultados da análise:\n",
            "Imagem 1: 41.02% de cobertura vegetal\n",
            "Imagem 2: 22.34% de cobertura vegetal\n",
            "Perda...: 18.68% de cobertura vegetal\n"
          ]
        }
      ]
    },
    {
      "cell_type": "markdown",
      "source": [
        "De acordo com pesquisas do GEMINI existem causas dierenciadas para cada tipo de bioma, o que pode direcionar melhor a fiscalização."
      ],
      "metadata": {
        "id": "zqW_EQUvId23"
      }
    },
    {
      "cell_type": "code",
      "source": [
        "# Possíveis causas (simplificado - requer lógica mais complexa)\n",
        "if bioma.lower() == '1':\n",
        "  print(\"\\nPossíveis causas (Mata Atlântica):\")\n",
        "  print(\"- Exploração madeireira ilegal\")\n",
        "  print(\"- Agricultura (plantação de monoculturas)\")\n",
        "  print(\"- Expansão urbana ou construção de infraestrutura\")\n",
        "  print(\"- Queimadas\")\n",
        "elif bioma.lower() == '2':\n",
        "  print(\"\\nPossíveis causas (Floresta Amazônica):\")\n",
        "  print(\"- Grilagem de terras e especulação imobiliária\")\n",
        "  print(\"- Agropecuária extensiva (pecuária e soja)\")\n",
        "  print(\"- Mineração\")\n",
        "  print(\"- Projetos de infraestrutura (hidrelétricas, estradas)\")\n",
        "else:\n",
        "  print(\"\\nBioma não reconhecido para sugestão de causas.\")"
      ],
      "metadata": {
        "colab": {
          "base_uri": "https://localhost:8080/"
        },
        "id": "yg5mAB3aI2tO",
        "outputId": "779f9dee-4055-4625-a4c4-1282483ffd4d"
      },
      "execution_count": 128,
      "outputs": [
        {
          "output_type": "stream",
          "name": "stdout",
          "text": [
            "\n",
            "Possíveis causas (Mata Atlântica):\n",
            "- Exploração madeireira ilegal\n",
            "- Agricultura (plantação de monoculturas)\n",
            "- Expansão urbana ou construção de infraestrutura\n",
            "- Queimadas\n"
          ]
        }
      ]
    },
    {
      "cell_type": "markdown",
      "source": [
        "Buscando ajuda para a IA em uma solução mais robusta para o problema"
      ],
      "metadata": {
        "id": "_fzuCGUiqhJn"
      }
    },
    {
      "cell_type": "code",
      "source": [
        "# resposta da IA\n",
        "\n",
        "response = model.generate_content(\"Baseado nas possíveis causas de perda vegetativa do bioma citado, \\n\"\n",
        "\"cujas imagens você analisou e também usando os dados públicos do local informado, em órgãos como \\n\"\n",
        "\"IBAMA e Secretaria de Meio Ambiente do Estado e do Município informado, quais sugestões você poderia dar, \\n\"\n",
        "\"para contribuir com a criação de soluções para mitigar a diminuição da área verde especificada?\")\n",
        "print(response.text)\n"
      ],
      "metadata": {
        "colab": {
          "base_uri": "https://localhost:8080/",
          "height": 734
        },
        "id": "OlRB5AT1qrgm",
        "outputId": "c0b0af0e-d570-4f41-ccfe-1750578d2c88"
      },
      "execution_count": 130,
      "outputs": [
        {
          "output_type": "stream",
          "name": "stdout",
          "text": [
            "**Sugestões para Mitigar a Perda Vegetativa do Bioma**\n",
            "\n",
            "**Com base nas causas identificadas nas imagens e dados públicos:**\n",
            "\n",
            "* **Desmatamento ilegal:**\n",
            "    * Fortalecer a fiscalização e aplicar penalidades rigorosas aos infratores.\n",
            "    * Criar programas de monitoramento para detectar e prevenir o desmatamento ilegal.\n",
            "\n",
            "* **Exploração madeireira insustentável:**\n",
            "    * Implementar práticas de manejo florestal sustentável para garantir a extração responsável de madeira.\n",
            "    * Promover o uso de madeira certificada de fontes sustentáveis.\n",
            "\n",
            "* **Queimadas:**\n",
            "    * Criar campanhas de conscientização sobre os riscos das queimadas e as consequências legais.\n",
            "    * Melhorar a capacidade de resposta a incêndios florestais e fornecer treinamento para bombeiros.\n",
            "\n",
            "* **Expansão urbana e agrícola:**\n",
            "    * Promover o planejamento urbano sustentável que priorize a proteção das áreas verdes.\n",
            "    * Apoiar práticas agrícolas sustentáveis que minimizem o desmatamento e a degradação ambiental.\n",
            "\n",
            "**Outras sugestões:**\n",
            "\n",
            "* **Educação e conscientização:**\n",
            "    * Educar o público sobre a importância do bioma e os riscos da perda vegetativa.\n",
            "    * Promover programas de educação ambiental nas escolas e comunidades.\n",
            "\n",
            "* **Incentivos econômicos:**\n",
            "    * Oferecer incentivos financeiros para proprietários de terras que protejam ou restaurem as áreas verdes.\n",
            "    * Apoiar negócios sustentáveis que promovam a conservação do bioma.\n",
            "\n",
            "* **Parcerias e colaboração:**\n",
            "    * Estabelecer parcerias entre órgãos governamentais, ONGs, empresas privadas e comunidades locais.\n",
            "    * Colaborar para desenvolver e implementar estratégias de conservação abrangentes.\n",
            "\n",
            "* **Pesquisa e monitoramento:**\n",
            "    * Apoiar pesquisas para entender melhor as causas e consequências da perda vegetativa.\n",
            "    * Monitorar regularmente a saúde do bioma para avaliar a eficácia das medidas de mitigação.\n",
            "\n",
            "Ao implementar essas sugestões, é possível contribuir significativamente para mitigar a diminuição da área verde do bioma especificado e garantir sua conservação a longo prazo.\n"
          ]
        }
      ]
    },
    {
      "cell_type": "markdown",
      "source": [],
      "metadata": {
        "id": "AT91nX2P32xo"
      }
    }
  ]
}